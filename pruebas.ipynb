{
 "cells": [
  {
   "cell_type": "markdown",
   "id": "5f18cf54",
   "metadata": {},
   "source": [
    "# joins sql\n"
   ]
  },
  {
   "cell_type": "code",
   "execution_count": 2,
   "id": "12f570b9",
   "metadata": {},
   "outputs": [
    {
     "data": {
      "text/plain": [
       "'\\ndef get_inbox(db: Session, username: str, tag: str = None):\\n    # Mensajes donde el usuario sea partes (desde o hacia él)\\n    q = db.query(Message)\\n    if tag:\\n        q = q.join(MessageTag, Message.id == MessageTag.message_id).filter(MessageTag.tag == tag)\\n    q = q.filter((Message.from_user == username) | (Message.to_user == username))\\n    mensajes = q.order_by(Message.timestamp).all()\\n    # Luego, para cada mensaje, busca los tags como antes para incluirlos\\n    # y devuelve una lista de Dicts/Schema preparados'"
      ]
     },
     "execution_count": 2,
     "metadata": {},
     "output_type": "execute_result"
    }
   ],
   "source": [
    "'''\n",
    "def get_inbox(db: Session, username: str, tag: str = None):\n",
    "    # Mensajes donde el usuario sea partes (desde o hacia él)\n",
    "    q = db.query(Message)\n",
    "    if tag:\n",
    "        q = q.join(MessageTag, Message.id == MessageTag.message_id).filter(MessageTag.tag == tag)\n",
    "    q = q.filter((Message.from_user == username) | (Message.to_user == username))\n",
    "    mensajes = q.order_by(Message.timestamp).all()\n",
    "    # Luego, para cada mensaje, busca los tags como antes para incluirlos\n",
    "    # y devuelve una lista de Dicts/Schema preparados'''"
   ]
  },
  {
   "cell_type": "code",
   "execution_count": null,
   "id": "960205ee",
   "metadata": {},
   "outputs": [],
   "source": []
  },
  {
   "cell_type": "markdown",
   "id": "b1163d9a",
   "metadata": {},
   "source": []
  }
 ],
 "metadata": {
  "kernelspec": {
   "display_name": ".entorno",
   "language": "python",
   "name": "python3"
  },
  "language_info": {
   "codemirror_mode": {
    "name": "ipython",
    "version": 3
   },
   "file_extension": ".py",
   "mimetype": "text/x-python",
   "name": "python",
   "nbconvert_exporter": "python",
   "pygments_lexer": "ipython3",
   "version": "3.11.2"
  }
 },
 "nbformat": 4,
 "nbformat_minor": 5
}
